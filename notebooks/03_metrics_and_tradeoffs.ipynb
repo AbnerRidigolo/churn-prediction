{
 "cells": [
  {
   "cell_type": "markdown",
   "id": "60790bf2",
   "metadata": {},
   "source": [
    "# 📊 Análise de Métricas e Trade-offs"
   ]
  },
  {
   "cell_type": "code",
   "execution_count": null,
   "id": "e517d5a4",
   "metadata": {},
   "outputs": [],
   "source": [
    "from sklearn.metrics import precision_recall_curve\n",
    "import matplotlib.pyplot as plt\n",
    "\n",
    "# Calcular precisao e recall para varios thresholds\n",
    "probs = model.predict_proba(X_test)[:, 1]\n",
    "precision, recall, thresholds = precision_recall_curve(y_test, probs)\n",
    "\n",
    "# Plot\n",
    "plt.plot(thresholds, precision[:-1], label='Precision')\n",
    "plt.plot(thresholds, recall[:-1], label='Recall')\n",
    "plt.xlabel('Threshold')\n",
    "plt.ylabel('Score')\n",
    "plt.title('Trade-off entre Precision e Recall')\n",
    "plt.legend()\n",
    "plt.grid(True)\n",
    "plt.show()\n"
   ]
  }
 ],
 "metadata": {},
 "nbformat": 4,
 "nbformat_minor": 5
}
