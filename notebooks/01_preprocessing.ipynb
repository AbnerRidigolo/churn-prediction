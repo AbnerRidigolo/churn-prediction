{
 "cells": [
  {
   "cell_type": "markdown",
   "id": "32c27ce2",
   "metadata": {},
   "source": [
    "# 🧹 Pré-processamento de Dados"
   ]
  },
  {
   "cell_type": "code",
   "execution_count": null,
   "id": "ae7cb645",
   "metadata": {},
   "outputs": [],
   "source": [
    "import pandas as pd\n",
    "import numpy as np\n",
    "\n",
    "# Carregar os dados\n",
    "df = pd.read_csv('../data/telco_churn.csv')\n",
    "\n",
    "# Visualizar as primeiras linhas\n",
    "df.head()\n"
   ]
  }
 ],
 "metadata": {},
 "nbformat": 4,
 "nbformat_minor": 5
}
