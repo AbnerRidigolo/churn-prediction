{
 "cells": [
  {
   "cell_type": "markdown",
   "id": "df487819",
   "metadata": {},
   "source": [
    "# 🤖 Treinamento do Modelo com Balanceamento"
   ]
  },
  {
   "cell_type": "code",
   "execution_count": null,
   "id": "8447267e",
   "metadata": {},
   "outputs": [],
   "source": [
    "from sklearn.model_selection import train_test_split\n",
    "from sklearn.ensemble import RandomForestClassifier\n",
    "from sklearn.metrics import classification_report, roc_auc_score\n",
    "from imblearn.over_sampling import SMOTE\n",
    "\n",
    "# Pré-processar colunas\n",
    "df = df.dropna()\n",
    "df = df.drop(columns=['customerID'])\n",
    "df['TotalCharges'] = pd.to_numeric(df['TotalCharges'], errors='coerce').fillna(0)\n",
    "\n",
    "df = pd.get_dummies(df, drop_first=True)\n",
    "\n",
    "# Separar features e target\n",
    "X = df.drop(columns='Churn_Yes')\n",
    "y = df['Churn_Yes']\n",
    "\n",
    "# Dividir em treino e teste\n",
    "X_train, X_test, y_train, y_test = train_test_split(X, y, stratify=y, test_size=0.3, random_state=42)\n",
    "\n",
    "# Aplicar SMOTE\n",
    "smote = SMOTE(random_state=42)\n",
    "X_res, y_res = smote.fit_resample(X_train, y_train)\n",
    "\n",
    "# Treinar modelo\n",
    "model = RandomForestClassifier(random_state=42)\n",
    "model.fit(X_res, y_res)\n",
    "\n",
    "# Avaliação\n",
    "y_pred = model.predict(X_test)\n",
    "print(classification_report(y_test, y_pred))\n",
    "print(\"AUC:\", roc_auc_score(y_test, model.predict_proba(X_test)[:,1]))\n"
   ]
  }
 ],
 "metadata": {},
 "nbformat": 4,
 "nbformat_minor": 5
}
